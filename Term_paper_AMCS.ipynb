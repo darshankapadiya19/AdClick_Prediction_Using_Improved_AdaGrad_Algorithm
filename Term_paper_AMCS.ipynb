{
  "nbformat": 4,
  "nbformat_minor": 0,
  "metadata": {
    "colab": {
      "name": "Term_paper_AMCS",
      "provenance": [],
      "collapsed_sections": []
    },
    "kernelspec": {
      "display_name": "Python 3",
      "name": "python3"
    },
    "language_info": {
      "name": "python"
    }
  },
  "cells": [
    {
      "cell_type": "code",
      "metadata": {
        "id": "BklG-xIChFen"
      },
      "source": [
        "############   Importing Libraries  ############\n",
        "\n",
        "import numpy as np\n",
        "import pandas as pd\n",
        "import matplotlib.pyplot as plt\n",
        "import seaborn as sns\n",
        "sns.set_style('whitegrid')\n",
        "plt.style.use('fivethirtyeight')"
      ],
      "execution_count": null,
      "outputs": []
    },
    {
      "cell_type": "code",
      "metadata": {
        "colab": {
          "base_uri": "https://localhost:8080/"
        },
        "id": "pfUZ1n0Bh9kB",
        "outputId": "87e0cbfe-a311-43e8-89cd-d80f2fbaf4c7"
      },
      "source": [
        "df = pd.read_csv('/content/advertising.csv')\n",
        "df = df.sample(frac=1)\n",
        "print(df.head())"
      ],
      "execution_count": null,
      "outputs": [
        {
          "output_type": "stream",
          "name": "stdout",
          "text": [
            "     Daily Time Spent on Site  Age  ...                 Country  Clicked on Ad\n",
            "579                     68.11   38  ...              Seychelles              0\n",
            "249                     62.20   25  ...           Liechtenstein              1\n",
            "781                     75.55   36  ...  Bosnia and Herzegovina              1\n",
            "999                     45.01   26  ...                  Brazil              1\n",
            "126                     80.31   44  ...                 Hungary              1\n",
            "\n",
            "[5 rows x 9 columns]\n"
          ]
        }
      ]
    },
    {
      "cell_type": "markdown",
      "metadata": {
        "id": "1UEe3GaVjcik"
      },
      "source": [
        "EDA"
      ]
    },
    {
      "cell_type": "code",
      "metadata": {
        "colab": {
          "base_uri": "https://localhost:8080/"
        },
        "id": "jRb5yxojjbuw",
        "outputId": "7d98a5f2-6745-4a4d-dc34-8403b63237f7"
      },
      "source": [
        "### Number of Unique Values ###\n",
        "for col in df:\n",
        "  print(f'number of unique values of {col}:', df[col].nunique())\n",
        "\n",
        "### Number of null values ###\n",
        "df.isnull().sum()"
      ],
      "execution_count": null,
      "outputs": [
        {
          "output_type": "stream",
          "name": "stdout",
          "text": [
            "number of unique values of Daily Time Spent on Site: 900\n",
            "number of unique values of Age: 43\n",
            "number of unique values of Area Income: 1000\n",
            "number of unique values of Daily Internet Usage: 966\n",
            "number of unique values of Ad Topic Line: 1000\n",
            "number of unique values of City: 969\n",
            "number of unique values of Male: 2\n",
            "number of unique values of Country: 237\n",
            "number of unique values of Clicked on Ad: 2\n"
          ]
        },
        {
          "output_type": "execute_result",
          "data": {
            "text/plain": [
              "Daily Time Spent on Site    0\n",
              "Age                         0\n",
              "Area Income                 0\n",
              "Daily Internet Usage        0\n",
              "Ad Topic Line               0\n",
              "City                        0\n",
              "Male                        0\n",
              "Country                     0\n",
              "Clicked on Ad               0\n",
              "dtype: int64"
            ]
          },
          "metadata": {},
          "execution_count": 81
        }
      ]
    },
    {
      "cell_type": "markdown",
      "metadata": {
        "id": "WbvJgIwYlkpG"
      },
      "source": [
        "Number of class values"
      ]
    },
    {
      "cell_type": "code",
      "metadata": {
        "colab": {
          "base_uri": "https://localhost:8080/",
          "height": 373
        },
        "id": "uuyP5oW2lj8U",
        "outputId": "1aa95570-bf8e-4457-aa45-1465437d043d"
      },
      "source": [
        "print(df['Clicked on Ad'].value_counts())\n",
        "sns.countplot(x='Clicked on Ad', data=df)"
      ],
      "execution_count": null,
      "outputs": [
        {
          "output_type": "stream",
          "name": "stdout",
          "text": [
            "1    500\n",
            "0    500\n",
            "Name: Clicked on Ad, dtype: int64\n"
          ]
        },
        {
          "output_type": "execute_result",
          "data": {
            "text/plain": [
              "<matplotlib.axes._subplots.AxesSubplot at 0x7fc1e5d97450>"
            ]
          },
          "metadata": {},
          "execution_count": 82
        },
        {
          "output_type": "display_data",
          "data": {
            "image/png": "[encoded data removed]",
            "text/plain": [
              "<Figure size 432x288 with 1 Axes>"
            ]
          },
          "metadata": {}
        }
      ]
    },
    {
      "cell_type": "code",
      "metadata": {
        "colab": {
          "base_uri": "https://localhost:8080/",
          "height": 238
        },
        "id": "ZJftm8n2mHWn",
        "outputId": "7b3c7ae0-688d-4894-cd8d-3b5946580522"
      },
      "source": [
        "df_final = df.drop(['Ad Topic Line', 'Country', 'City'], axis=1)\n",
        "df_final.head()\n",
        "df_final.corr()"
      ],
      "execution_count": null,
      "outputs": [
        {
          "output_type": "execute_result",
          "data": {
            "text/html": [
              "<div>\n",
              "<style scoped>\n",
              "    .dataframe tbody tr th:only-of-type {\n",
              "        vertical-align: middle;\n",
              "    }\n",
              "\n",
              "    .dataframe tbody tr th {\n",
              "        vertical-align: top;\n",
              "    }\n",
              "\n",
              "    .dataframe thead th {\n",
              "        text-align: right;\n",
              "    }\n",
              "</style>\n",
              "<table border=\"1\" class=\"dataframe\">\n",
              "  <thead>\n",
              "    <tr style=\"text-align: right;\">\n",
              "      <th></th>\n",
              "      <th>Daily Time Spent on Site</th>\n",
              "      <th>Age</th>\n",
              "      <th>Area Income</th>\n",
              "      <th>Daily Internet Usage</th>\n",
              "      <th>Male</th>\n",
              "      <th>Clicked on Ad</th>\n",
              "    </tr>\n",
              "  </thead>\n",
              "  <tbody>\n",
              "    <tr>\n",
              "      <th>Daily Time Spent on Site</th>\n",
              "      <td>1.000000</td>\n",
              "      <td>-0.331513</td>\n",
              "      <td>0.310954</td>\n",
              "      <td>0.518658</td>\n",
              "      <td>-0.018951</td>\n",
              "      <td>-0.748117</td>\n",
              "    </tr>\n",
              "    <tr>\n",
              "      <th>Age</th>\n",
              "      <td>-0.331513</td>\n",
              "      <td>1.000000</td>\n",
              "      <td>-0.182605</td>\n",
              "      <td>-0.367209</td>\n",
              "      <td>-0.021044</td>\n",
              "      <td>0.492531</td>\n",
              "    </tr>\n",
              "    <tr>\n",
              "      <th>Area Income</th>\n",
              "      <td>0.310954</td>\n",
              "      <td>-0.182605</td>\n",
              "      <td>1.000000</td>\n",
              "      <td>0.337496</td>\n",
              "      <td>0.001322</td>\n",
              "      <td>-0.476255</td>\n",
              "    </tr>\n",
              "    <tr>\n",
              "      <th>Daily Internet Usage</th>\n",
              "      <td>0.518658</td>\n",
              "      <td>-0.367209</td>\n",
              "      <td>0.337496</td>\n",
              "      <td>1.000000</td>\n",
              "      <td>0.028012</td>\n",
              "      <td>-0.786539</td>\n",
              "    </tr>\n",
              "    <tr>\n",
              "      <th>Male</th>\n",
              "      <td>-0.018951</td>\n",
              "      <td>-0.021044</td>\n",
              "      <td>0.001322</td>\n",
              "      <td>0.028012</td>\n",
              "      <td>1.000000</td>\n",
              "      <td>-0.038027</td>\n",
              "    </tr>\n",
              "    <tr>\n",
              "      <th>Clicked on Ad</th>\n",
              "      <td>-0.748117</td>\n",
              "      <td>0.492531</td>\n",
              "      <td>-0.476255</td>\n",
              "      <td>-0.786539</td>\n",
              "      <td>-0.038027</td>\n",
              "      <td>1.000000</td>\n",
              "    </tr>\n",
              "  </tbody>\n",
              "</table>\n",
              "</div>"
            ],
            "text/plain": [
              "                          Daily Time Spent on Site  ...  Clicked on Ad\n",
              "Daily Time Spent on Site                  1.000000  ...      -0.748117\n",
              "Age                                      -0.331513  ...       0.492531\n",
              "Area Income                               0.310954  ...      -0.476255\n",
              "Daily Internet Usage                      0.518658  ...      -0.786539\n",
              "Male                                     -0.018951  ...      -0.038027\n",
              "Clicked on Ad                            -0.748117  ...       1.000000\n",
              "\n",
              "[6 rows x 6 columns]"
            ]
          },
          "metadata": {},
          "execution_count": 83
        }
      ]
    },
    {
      "cell_type": "code",
      "metadata": {
        "colab": {
          "base_uri": "https://localhost:8080/"
        },
        "id": "iKZ_fk9Lto3r",
        "outputId": "1fd3448a-f8ad-431f-81ae-85823bff8e9d"
      },
      "source": [
        "from sklearn.model_selection import train_test_split\n",
        "from sklearn.metrics import classification_report\n",
        "x = df_final[['Daily Time Spent on Site', 'Age', 'Area Income', 'Daily Internet Usage', 'Male']]\n",
        "y = df_final['Clicked on Ad']\n",
        "\n",
        "x_train, x_test, y_train, y_test = train_test_split(x,y,test_size=0.3,random_state=48)\n",
        "\n",
        "print('Input Shape', (x_train.shape))\n",
        "print('Output Shape', x_test.shape)\n",
        "from sklearn.linear_model import LogisticRegression as lr\n",
        "import warnings\n",
        "temp1 = lr(random_state=0).fit(x_train, y_train)\n",
        "temp = temp1.predict(x_train)\n",
        "print(classification_report(y_train, temp))\n"
      ],
      "execution_count": null,
      "outputs": [
        {
          "output_type": "stream",
          "name": "stdout",
          "text": [
            "Input Shape (700, 5)\n",
            "Output Shape (300, 5)\n",
            "              precision    recall  f1-score   support\n",
            "\n",
            "           0       0.94      0.97      0.96       360\n",
            "           1       0.97      0.94      0.95       340\n",
            "\n",
            "    accuracy                           0.96       700\n",
            "   macro avg       0.96      0.96      0.96       700\n",
            "weighted avg       0.96      0.96      0.96       700\n",
            "\n"
          ]
        },
        {
          "output_type": "stream",
          "name": "stderr",
          "text": [
            "/usr/local/lib/python3.7/dist-packages/sklearn/linear_model/_logistic.py:818: ConvergenceWarning: lbfgs failed to converge (status=1):\n",
            "STOP: TOTAL NO. of ITERATIONS REACHED LIMIT.\n",
            "\n",
            "Increase the number of iterations (max_iter) or scale the data as shown in:\n",
            "    https://scikit-learn.org/stable/modules/preprocessing.html\n",
            "Please also refer to the documentation for alternative solver options:\n",
            "    https://scikit-learn.org/stable/modules/linear_model.html#logistic-regression\n",
            "  extra_warning_msg=_LOGISTIC_SOLVER_CONVERGENCE_MSG,\n"
          ]
        }
      ]
    },
    {
      "cell_type": "code",
      "metadata": {
        "colab": {
          "base_uri": "https://localhost:8080/"
        },
        "id": "EFdlIGM3blsN",
        "outputId": "c5c3495a-2d8e-43e4-d688-1af679f884f7"
      },
      "source": [
        "def sigmoid(z):\n",
        "    return 1.0/(1 + np.exp(-z))\n",
        "\n",
        "def loss(y, y_hat):\n",
        "    loss = -np.mean(y*(np.log(y_hat)) - (1-y)*np.log(1-y_hat))\n",
        "    return loss\n",
        "\n",
        "def gradients(X, y, y_hat):\n",
        "    \n",
        "    # X --> Input.\n",
        "    # y --> true/target value.\n",
        "    # y_hat --> hypothesis/predictions.\n",
        "    # w --> weights (parameter).\n",
        "    # b --> bias (parameter).\n",
        "    \n",
        "    # m-> number of training examples.\n",
        "    m = X.shape[0]\n",
        "    \n",
        "    # Gradient of loss w.r.t weights.\n",
        "    dw = (1/m)*np.dot(X.T, (y_hat - y))\n",
        "    \n",
        "    # Gradient of loss w.r.t bias.\n",
        "    db = (1/m)*np.sum((y_hat - y)) \n",
        "    \n",
        "    return dw, db\n",
        "\n",
        "def plot_decision_boundary(X, w, b):\n",
        "    \n",
        "    # X --> Inputs\n",
        "    # w --> weights\n",
        "    # b --> bias\n",
        "    \n",
        "    # The Line is y=mx+c\n",
        "    # So, Equate mx+c = w.X + b\n",
        "    # Solving we find m and c\n",
        "    x1 = [min(X[:,0]), max(X[:,0])]\n",
        "    m = -w[0]/w[1]\n",
        "    c = -b/w[1]\n",
        "    x2 = m*x1 + c\n",
        "    \n",
        "    # Plotting\n",
        "    fig = plt.figure(figsize=(10,8))\n",
        "    plt.plot(X[:, 0][y==0], X[:, 1][y==0], \"g^\")\n",
        "    plt.plot(X[:, 0][y==1], X[:, 1][y==1], \"bs\")\n",
        "    plt.xlim([-2, 2])\n",
        "    plt.ylim([0, 2.2])\n",
        "    plt.xlabel(\"feature 1\")\n",
        "    plt.ylabel(\"feature 2\")\n",
        "    plt.title('Decision Boundary')\n",
        "    plt.plot(x1, x2, 'y-')\n",
        "\n",
        "\n",
        "def normalize(X):\n",
        "    \n",
        "    # X --> Input.\n",
        "    \n",
        "    # m-> number of training examples\n",
        "    # n-> number of features \n",
        "    m, n = X.shape\n",
        "    \n",
        "    # Normalizing all the n features of X.\n",
        "    for i in range(n):\n",
        "        X = (X - X.mean(axis=0))/X.std(axis=0)\n",
        "        \n",
        "    return X\n",
        "\n",
        "def train(X, y, bs, epochs, lr):\n",
        "    \n",
        "    # X --> Input.\n",
        "    # y --> true/target value.\n",
        "    # bs --> Batch Size.\n",
        "    # epochs --> Number of iterations.\n",
        "    # lr --> Learning rate.\n",
        "        \n",
        "    # m-> number of training examples\n",
        "    # n-> number of features \n",
        "    m, n = X.shape\n",
        "    \n",
        "    # Initializing weights and bias to zeros.\n",
        "    w = np.zeros((n,1))\n",
        "    b = 0\n",
        "    \n",
        "    # Reshaping y.\n",
        "    y = y.values.reshape(m,1)\n",
        "    \n",
        "    # Normalizing the inputs.\n",
        "    x = normalize(X)\n",
        "    \n",
        "    # Empty list to store losses.\n",
        "    losses = []\n",
        "    \n",
        "    # Training loop.\n",
        "    for epoch in range(epochs):\n",
        "        for i in range((m-1)//bs + 1):\n",
        "            \n",
        "            # Defining batches. SGD.\n",
        "            start_i = i*bs\n",
        "            end_i = start_i + bs\n",
        "            xb = X[start_i:end_i]\n",
        "            yb = y[start_i:end_i]\n",
        "            \n",
        "            # Calculating hypothesis/prediction.\n",
        "            y_hat = sigmoid(np.dot(xb, w) + b)\n",
        "            \n",
        "            # Getting the gradients of loss w.r.t parameters.\n",
        "            dw, db = gradients(xb, yb, y_hat)\n",
        "            \n",
        "            # Updating the parameters.\n",
        "            w -= lr*dw\n",
        "            b -= lr*db\n",
        "        \n",
        "        # Calculating loss and appending it in the list.\n",
        "        l = loss(y, sigmoid(np.dot(X, w) + b))\n",
        "        losses.append(l)\n",
        "        \n",
        "    # returning weights, bias and losses(List).\n",
        "    return w, b, losses\n",
        "\n",
        "def predict(X):\n",
        "    \n",
        "    # X --> Input.\n",
        "    \n",
        "    # Normalizing the inputs.\n",
        "    x = normalize(X)\n",
        "    \n",
        "    # Calculating presictions/y_hat.\n",
        "    preds = sigmoid(np.dot(X, w) + b)\n",
        "    \n",
        "    # Empty List to store predictions.\n",
        "    pred_class = []\n",
        "    # if y_hat >= 0.5 --> round up to 1\n",
        "    # if y_hat < 0.5 --> round up to 1\n",
        "    pred_class = [1 if i > 0.5 else 0 for i in preds]\n",
        "    \n",
        "    return np.array(pred_class)\n",
        "print(x_train.head())\n",
        "# Training \n",
        "w, b, l = train(x_train, y_train, bs=1, epochs=100, lr=0.05)\n",
        "# Plotting Decision Boundary\n",
        "#plot_decision_boundary(x_train, w, b)\n",
        "\n",
        "y_hat = predict(x_train)\n",
        "print(classification_report(y_train, y_hat))\n",
        "def accuracy(y, y_hat):\n",
        "    accuracy = np.sum(y == y_hat) / len(y)\n",
        "    return accuracy\n",
        "accuracy(y_train, y_hat=predict(x_train))"
      ],
      "execution_count": null,
      "outputs": [
        {
          "output_type": "stream",
          "name": "stdout",
          "text": [
            "     Daily Time Spent on Site  Age  Area Income  Daily Internet Usage  Male\n",
            "842                     78.24   23     54106.21                199.29     0\n",
            "437                     76.24   27     63976.44                214.42     0\n",
            "111                     63.24   53     65229.13                235.78     1\n",
            "976                     61.84   45     46024.29                105.63     1\n",
            "302                     39.25   39     62378.05                152.36     0\n"
          ]
        },
        {
          "output_type": "stream",
          "name": "stderr",
          "text": [
            "/usr/local/lib/python3.7/dist-packages/ipykernel_launcher.py:2: RuntimeWarning: overflow encountered in exp\n",
            "  \n",
            "/usr/local/lib/python3.7/dist-packages/ipykernel_launcher.py:5: RuntimeWarning: divide by zero encountered in log\n",
            "  \"\"\"\n",
            "/usr/local/lib/python3.7/dist-packages/ipykernel_launcher.py:5: RuntimeWarning: invalid value encountered in multiply\n",
            "  \"\"\"\n"
          ]
        },
        {
          "output_type": "stream",
          "name": "stdout",
          "text": [
            "              precision    recall  f1-score   support\n",
            "\n",
            "           0       0.00      0.00      0.00       360\n",
            "           1       0.49      1.00      0.65       340\n",
            "\n",
            "    accuracy                           0.49       700\n",
            "   macro avg       0.24      0.50      0.33       700\n",
            "weighted avg       0.24      0.49      0.32       700\n",
            "\n"
          ]
        },
        {
          "output_type": "stream",
          "name": "stderr",
          "text": [
            "/usr/local/lib/python3.7/dist-packages/sklearn/metrics/_classification.py:1308: UndefinedMetricWarning: Precision and F-score are ill-defined and being set to 0.0 in labels with no predicted samples. Use `zero_division` parameter to control this behavior.\n",
            "  _warn_prf(average, modifier, msg_start, len(result))\n",
            "/usr/local/lib/python3.7/dist-packages/sklearn/metrics/_classification.py:1308: UndefinedMetricWarning: Precision and F-score are ill-defined and being set to 0.0 in labels with no predicted samples. Use `zero_division` parameter to control this behavior.\n",
            "  _warn_prf(average, modifier, msg_start, len(result))\n",
            "/usr/local/lib/python3.7/dist-packages/sklearn/metrics/_classification.py:1308: UndefinedMetricWarning: Precision and F-score are ill-defined and being set to 0.0 in labels with no predicted samples. Use `zero_division` parameter to control this behavior.\n",
            "  _warn_prf(average, modifier, msg_start, len(result))\n"
          ]
        },
        {
          "output_type": "execute_result",
          "data": {
            "text/plain": [
              "0.4857142857142857"
            ]
          },
          "metadata": {},
          "execution_count": 86
        }
      ]
    }
  ]
}